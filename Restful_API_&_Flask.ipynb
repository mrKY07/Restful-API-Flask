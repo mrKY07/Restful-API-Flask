{
  "nbformat": 4,
  "nbformat_minor": 0,
  "metadata": {
    "colab": {
      "provenance": []
    },
    "kernelspec": {
      "name": "python3",
      "display_name": "Python 3"
    },
    "language_info": {
      "name": "python"
    }
  },
  "cells": [
    {
      "cell_type": "markdown",
      "source": [
        "# THEORETICAL QUESTIONS"
      ],
      "metadata": {
        "id": "MOfOSbD6DpG6"
      }
    },
    {
      "cell_type": "markdown",
      "source": [
        "1.What is a RESTful API\n",
        "\n",
        "A RESTful API (Representational State Transfer) is a web service that follows REST architecture principles. It uses HTTP methods like GET, POST, PUT, DELETE to perform operations on resources, which are usually represented as URLs. RESTful APIs are stateless and commonly return data in JSON format.\n",
        "\n",
        "Example:\n",
        "\n",
        "A GET request to /users/1 might return user data with ID 1.\n",
        "\n"
      ],
      "metadata": {
        "id": "E6Z_6yPkDz2L"
      }
    },
    {
      "cell_type": "markdown",
      "source": [
        "2.Explain the concept of API specification\n",
        "\n",
        "An API specification defines how clients can interact with an API. It includes endpoints, request/response formats, HTTP methods, authentication, and error codes. A popular tool for writing specifications is OpenAPI (formerly Swagger). It helps in generating documentation and testing tools for APIs.\n",
        "\n",
        "Example:\n",
        "\n",
        "A spec might describe GET /users returns a list of user objects in JSON.\n",
        "\n"
      ],
      "metadata": {
        "id": "KOqB2FXnD6_p"
      }
    },
    {
      "cell_type": "markdown",
      "source": [
        "3.What is Flask, and why is it popular for building APIs\n",
        "\n",
        "Flask is a lightweight Python web framework used to build web applications and APIs. It's popular because it's easy to learn, flexible, and requires minimal setup. Flask allows developers to quickly create RESTful APIs using simple routing and decorators. It also has many extensions for features like authentication and database access."
      ],
      "metadata": {
        "id": "kjYYJIhMD8tC"
      }
    },
    {
      "cell_type": "markdown",
      "source": [
        "4.What is routing in Flask\n",
        "\n",
        "Routing in Flask maps URL paths to Python functions. Each route is defined using the @app.route() decorator, which tells Flask what function to run when a specific URL is accessed. It’s how Flask handles different HTTP requests like GET or POST.\n",
        "\n",
        "Example:\n",
        "\n",
        "@app.route('/hello')\n",
        "\n",
        "def say_hello():\n",
        "\n",
        "    return 'Hello!'\n"
      ],
      "metadata": {
        "id": "qQifnMoqEFAv"
      }
    },
    {
      "cell_type": "markdown",
      "source": [
        "5.How do you create a simple Flask application\n",
        "\n",
        "To create a Flask app, install Flask, then write a Python script with basic setup. Import Flask, create an app instance, define routes using decorators, and run the server using app.run().\n",
        "\n",
        "Example:\n",
        "\n",
        "from flask import Flask  \n",
        "app = Flask(__name__)  \n",
        "\n",
        "@app.route('/')  \n",
        "def home():  \n",
        "    return 'Welcome!'  \n",
        "\n",
        "app.run()\n"
      ],
      "metadata": {
        "id": "UrHSYOPGEM29"
      }
    },
    {
      "cell_type": "markdown",
      "source": [
        "6.What are HTTP methods used in RESTful APIs\n",
        "\n",
        "RESTful APIs use standard HTTP methods to perform operations on resources:\n",
        "\n",
        "GET: Used to retrieve data from the server without changing it. Example: GET /users returns all users.\n",
        "\n",
        "POST: Sends data to the server to create a new resource. Example: POST /users creates a new user with the provided data.\n",
        "\n",
        "PUT: Updates an existing resource or creates it if it doesn’t exist. Example: PUT /users/1 updates user with ID 1.\n",
        "\n",
        "DELETE: Removes a resource from the server. Example: DELETE /users/1 deletes the user with ID 1.\n",
        "\n",
        "Each method is used based on the type of action needed, following RESTful design rules."
      ],
      "metadata": {
        "id": "SO3Afn-mESWl"
      }
    },
    {
      "cell_type": "markdown",
      "source": [
        "7.What is the purpose of the @app.route() decorator in Flask\n",
        "\n",
        "The @app.route() decorator in Flask is used to bind a URL path to a function. It tells Flask which function to call when a user accesses a specific route. It can also specify allowed HTTP methods like GET or POST.\n",
        "\n",
        "Example:\n",
        "\n",
        "@app.route('/login', methods=['POST'])\n",
        "\n",
        "def login():\n",
        "\n",
        "    return 'Login successful'\n"
      ],
      "metadata": {
        "id": "eDC-IPzGEvKp"
      }
    },
    {
      "cell_type": "markdown",
      "source": [
        "8.What is the difference between GET and POST HTTP methods\n",
        "\n",
        "GET is used to retrieve data from the server. Data is sent in the URL and is visible.\n",
        "\n",
        "POST is used to send data to the server to create or update resources. Data is sent in the request body and is hidden.\n",
        "\n",
        "Example:\n",
        "\n",
        "GET /user/1 gets user info\n",
        "\n",
        "POST /user sends new user data to create a user\n"
      ],
      "metadata": {
        "id": "bWRCreJ5E04h"
      }
    },
    {
      "cell_type": "markdown",
      "source": [
        "9.How do you handle errors in Flask APIs\n",
        "\n",
        "In Flask, you handle errors using @app.errorhandler() decorator or try-except blocks. You can return custom JSON responses for different error codes like 404 or 500. This improves user experience and debugging.\n",
        "\n",
        "Example:\n",
        "\n",
        "@app.errorhandler(404)\n",
        "\n",
        "def not_found(e):\n",
        "\n",
        "return {'error': 'Not Found'}, 404\n"
      ],
      "metadata": {
        "id": "HDrAs5adE1oR"
      }
    },
    {
      "cell_type": "markdown",
      "source": [
        "10.How do you connect Flask to a SQL database\n",
        "\n",
        "You can connect Flask to a SQL database using libraries like SQLAlchemy or Flask-SQLAlchemy. Configure the database URI, initialize the extension, and define models for tables.\n",
        "\n",
        "Example:\n",
        "\n",
        "from flask_sqlalchemy import SQLAlchemy  \n",
        "app.config['SQLALCHEMY_DATABASE_URI'] = 'sqlite:///mydb.db'  \n",
        "db = SQLAlchemy(app)\n"
      ],
      "metadata": {
        "id": "q32hd3WZE1aZ"
      }
    },
    {
      "cell_type": "markdown",
      "source": [
        "11.What is the role of Flask-SQLAlchemy?\n",
        "\n",
        "Flask-SQLAlchemy is an extension that adds SQLAlchemy support to Flask applications. It simplifies database operations like creating tables, inserting, updating, and querying records. It also provides an easy way to manage relationships and migrations.\n",
        "\n",
        "Example:\n",
        "\n",
        "db = SQLAlchemy(app)  \n",
        "class User(db.Model):  \n",
        "    id = db.Column(db.Integer, primary_key=True)\n"
      ],
      "metadata": {
        "id": "Tql6Ks3tFYtJ"
      }
    },
    {
      "cell_type": "markdown",
      "source": [
        "12.What are Flask blueprints, and how are they useful?\n",
        "\n",
        "Blueprints in Flask allow you to split your app into reusable components or modules. They help organize routes, views, and static files, especially in large applications. This makes your code cleaner and easier to manage.\n",
        "\n",
        "Example:\n",
        "\n",
        "You can create a user blueprint with all user-related routes."
      ],
      "metadata": {
        "id": "cvQVYQ_oFcTx"
      }
    },
    {
      "cell_type": "markdown",
      "source": [
        "13.What is the purpose of Flask's request object?\n",
        "\n",
        "Flask’s request object is used to access data sent by the client in HTTP requests. It can read form data, JSON data, query parameters, and headers.\n",
        "\n",
        "Example:\n",
        "\n",
        "from flask import request  \n",
        "data = request.get_json()  \n"
      ],
      "metadata": {
        "id": "BV8kzinRFirZ"
      }
    },
    {
      "cell_type": "markdown",
      "source": [
        "14.How do you create a RESTful API endpoint using Flask?\n",
        "\n",
        "To create a RESTful API endpoint, define a route using @app.route() and use HTTP methods like GET or POST. Use the request object to get data and return responses.\n",
        "\n",
        "Example:\n",
        "\n",
        "@app.route('/user', methods=['POST'])  \n",
        "def create_user():  \n",
        "    data = request.get_json()  \n",
        "    return jsonify(data), 201\n"
      ],
      "metadata": {
        "id": "OPwGKg5DFnd_"
      }
    },
    {
      "cell_type": "markdown",
      "source": [
        "15.What is the purpose of Flask's jsonify() function?\n",
        "\n",
        "jsonify() converts Python dictionaries or lists into JSON format, which is the standard response format for APIs. It also sets the correct Content-Type header.\n",
        "\n",
        "Example:\n",
        "\n",
        "return jsonify({\"message\": \"Success\"})\n"
      ],
      "metadata": {
        "id": "JrSDRLm9FvXW"
      }
    },
    {
      "cell_type": "markdown",
      "source": [
        "16.Explain Flask's url_for() function\n",
        "\n",
        "url_for() generates a URL for a given view function by its name. It helps avoid hardcoding URLs and makes code more flexible and maintainable. It also supports passing arguments to build dynamic URLs.\n",
        "\n",
        "Example:\n",
        "\n",
        "url_for('home')  # returns '/' if home() is mapped to '/'\n"
      ],
      "metadata": {
        "id": "AnVYAoMxF0R_"
      }
    },
    {
      "cell_type": "markdown",
      "source": [
        "17.How does Flask handle static files (CSS, JavaScript, etc.)?\n",
        "\n",
        "Flask serves static files from a folder named static by default. You place your CSS, JS, and image files in this folder and access them using the /static/ path.\n",
        "\n"
      ],
      "metadata": {
        "id": "r3KChHO6GDJG"
      }
    },
    {
      "cell_type": "markdown",
      "source": [
        "18.What is an API specification, and how does it help in building a Flask API?\n",
        "\n",
        "An API specification is a detailed description of how an API works, including endpoints, request/response formats, and error codes. It helps developers understand how to use the API correctly and allows tools like Swagger to generate documentation and test interfaces. It ensures consistency and clarity in API design.\n",
        "\n"
      ],
      "metadata": {
        "id": "Ycj90OPnGG6o"
      }
    },
    {
      "cell_type": "markdown",
      "source": [
        "19.What are HTTP status codes, and why are they important in a Flask API?\n",
        "HTTP status codes indicate the result of an HTTP request. They help clients understand if the request was successful or if there was an error. Flask APIs use codes like 200 OK, 201 Created, 400 Bad Request, and 404 Not Found to provide meaningful responses.\n",
        "\n",
        "Example:\n",
        "\n",
        "return jsonify({\"error\": \"Not found\"}), 404\n",
        "\n",
        "\n"
      ],
      "metadata": {
        "id": "qkm36ZBTGO6X"
      }
    },
    {
      "cell_type": "markdown",
      "source": [
        "20.How do you handle POST requests in Flask?\n",
        "\n",
        "To handle POST requests, define a route with methods=['POST'], and use request.get_json() to read the incoming data. Then process the data and return a response.\n",
        "\n",
        "Example:\n",
        "\n",
        "@app.route('/add', methods=['POST'])  \n",
        "def add_item():  \n",
        "    data = request.get_json()  \n",
        "    return jsonify({\"received\": data}), 201\n"
      ],
      "metadata": {
        "id": "0PY5vDgUGXXQ"
      }
    },
    {
      "cell_type": "markdown",
      "source": [
        "21.How would you secure a Flask API?\n",
        "\n",
        "To secure a Flask API, we can:\n",
        "\n",
        "*   Use authentication (like API keys, JWT, OAuth).\n",
        "\n",
        "\n",
        "*   Validate all input to prevent attacks like SQL injection.\n",
        "\n",
        "*   Use HTTPS to encrypt data.\n",
        "*   Limit request rates (rate limiting) to avoid abuse.\n",
        "\n",
        "\n",
        "*   Handle errors and hide sensitive info in responses.\n",
        "\n",
        "\n",
        "\n",
        "\n",
        "\n",
        "\n",
        "\n",
        "\n",
        "\n",
        "\n",
        "\n",
        "\n",
        "\n"
      ],
      "metadata": {
        "id": "DDABu8FeGcoz"
      }
    },
    {
      "cell_type": "markdown",
      "source": [
        "22.What is the significance of the Flask-RESTful extension?\n",
        "\n",
        "Flask-RESTful is an extension that simplifies building RESTful APIs with Flask. It provides a Resource class for defining endpoints, built-in request parsing, and easy HTTP method handling (GET, POST, etc.). It helps organize code and reduces boilerplate in API development.\n",
        "\n",
        "Example:\n",
        "\n",
        "class Hello(Resource):  \n",
        "    def get(self):  \n",
        "        return {'message': 'Hello'}\n"
      ],
      "metadata": {
        "id": "x04kJCrmGz8F"
      }
    },
    {
      "cell_type": "markdown",
      "source": [
        "23.What is the role of Flask's session object?\n",
        "\n",
        "The session object in Flask stores user-specific data across requests. It uses cookies to track users and keeps data securely (encrypted with a secret key). It’s commonly used for login systems and remembering user preferences.\n",
        "\n",
        "Example:\n",
        "\n",
        "session['username'] = 'john'\n",
        "\n"
      ],
      "metadata": {
        "id": "XfJJg24LG4-U"
      }
    },
    {
      "cell_type": "markdown",
      "source": [
        "# PRACTICAL QUESTIONS\n"
      ],
      "metadata": {
        "id": "aGLWBGHxHA6R"
      }
    },
    {
      "cell_type": "markdown",
      "source": [
        "1.How do you create a basic Flask application\n",
        "\n",
        "A basic Flask app is created by importing Flask, creating an app instance, defining routes with functions, and running the app. Routes define URL endpoints and what response to return."
      ],
      "metadata": {
        "id": "jT--Pq2WMNvM"
      }
    },
    {
      "cell_type": "markdown",
      "source": [
        "2.How do you serve static files like images or CSS in Flask\n",
        "\n",
        "Flask automatically serves files placed in the static folder at the app root. You can access these files in your HTML using the url_for('static', filename='path/to/file') function. This keeps static assets organized and easily accessible.\n",
        "\n"
      ],
      "metadata": {
        "id": "9QoOGX0iL9cg"
      }
    },
    {
      "cell_type": "markdown",
      "source": [
        "3.How do you define different routes with different HTTP methods in Flask\n",
        "\n",
        "In Flask, you can specify which HTTP methods a route should accept using the methods parameter in the @app.route() decorator. By default, routes accept only GET requests, but you can add others like POST, PUT, or DELETE as needed."
      ],
      "metadata": {
        "id": "hp1uCPxnL4Ob"
      }
    },
    {
      "cell_type": "markdown",
      "source": [
        "4.How do you render HTML templates in Flask\n",
        "\n",
        "Flask uses the Jinja2 template engine to render HTML files dynamically. Templates are stored in a templates folder. You use render_template('filename.html', variable=value) inside routes to send data and generate HTML pages."
      ],
      "metadata": {
        "id": "9uHDS4jNLlA8"
      }
    },
    {
      "cell_type": "markdown",
      "source": [
        "5.How can you generate URLs for routes in Flask using url_for\n",
        "\n",
        "The url_for() function dynamically generates URLs for a given route based on the function name. This avoids hardcoding URLs and helps keep your app flexible, especially if routes change. You can also pass parameters to build URLs with dynamic parts."
      ],
      "metadata": {
        "id": "GL7iD39ILbo5"
      }
    },
    {
      "cell_type": "markdown",
      "source": [
        "6.How do you handle forms in Flask\n",
        "\n",
        "In Flask, forms are handled by receiving data from HTML forms via POST or GET methods. You access submitted data using request.form (for form fields). Then you process the data and return responses accordingly. For easier form validation, Flask-WTF is commonly used, but you can also handle forms manually."
      ],
      "metadata": {
        "id": "pdbbcJ_FLQyV"
      }
    },
    {
      "cell_type": "markdown",
      "source": [
        "7.How can you validate form data in Flask\n",
        "\n",
        "Flask itself doesn’t provide built-in form validation, so you typically use Flask-WTF, an extension that integrates WTForms with Flask. It lets you define forms as Python classes with validation rules like required fields, length limits, email format, etc. When the form is submitted, Flask-WTF validates the input and you can handle errors easily.\n",
        "\n"
      ],
      "metadata": {
        "id": "-X_beezYLHmx"
      }
    },
    {
      "cell_type": "markdown",
      "source": [
        "8.How do you manage sessions in Flask\n",
        "\n",
        "Flask’s session object stores data specific to a user across requests using secure cookies. It lets you remember user info like login status or preferences. You need to set a secret key to encrypt session data.\n",
        "\n"
      ],
      "metadata": {
        "id": "kjvEKhu2K-SJ"
      }
    },
    {
      "cell_type": "markdown",
      "source": [
        "9.How do you redirect to a different route in Flask\n",
        "\n",
        "\n",
        "In Flask, you use the redirect() function along with url_for() to send the user to a different route. This is useful after form submissions, logins, or to simplify URL management."
      ],
      "metadata": {
        "id": "uAaLK_iXK0Ho"
      }
    },
    {
      "cell_type": "markdown",
      "source": [
        " 10.How do you handle errors in Flask (e.g., 404)\n",
        "\n",
        " Flask lets you define custom error handlers using the @app.errorhandler() decorator with an HTTP status code. When an error like 404 occurs, Flask runs your handler function, letting you return custom messages or templates.\n",
        "\n"
      ],
      "metadata": {
        "id": "60yYmo85KqV_"
      }
    },
    {
      "cell_type": "markdown",
      "source": [
        "11.How do you structure a Flask app using Blueprints\n",
        "\n",
        "Blueprints let you organize a Flask app into modular components or sections. Each blueprint can have its own routes, templates, and static files. This is useful for large apps to keep code clean and maintainable. You register blueprints on the main Flask app to combine them.\n",
        "\n",
        "\n",
        "\n",
        "\n"
      ],
      "metadata": {
        "id": "vq2Oks9UKeb9"
      }
    },
    {
      "cell_type": "markdown",
      "source": [
        "12.How do you define a custom Jinja filter in Flask\n",
        "\n",
        "\n",
        "Jinja filters transform data inside templates (like formatting). You can create your own custom filter by defining a Python function and registering it with Flask’s app.template_filter() decorator. Then use it in templates with the pipe (|) syntax."
      ],
      "metadata": {
        "id": "Wb2SP8WlKTJU"
      }
    },
    {
      "cell_type": "markdown",
      "source": [
        "13.How can you redirect with query parameters in Flask\n",
        "\n",
        "To redirect with query parameters, you use redirect() combined with url_for() and pass the parameters as arguments to url_for(). Flask then builds the URL including those parameters, and redirect() sends the user to that URL.\n",
        "\n"
      ],
      "metadata": {
        "id": "meh-UhkaKJZw"
      }
    },
    {
      "cell_type": "markdown",
      "source": [
        "14.How do you return JSON responses in Flask\n",
        "\n",
        "In Flask, JSON responses are commonly returned using the jsonify() function. It converts Python dictionaries or lists into JSON format and sets the appropriate Content-Type header (application/json). This is essential for building APIs that communicate data in JSON.\n",
        "\n"
      ],
      "metadata": {
        "id": "LBJxLOv3JuHG"
      }
    },
    {
      "cell_type": "markdown",
      "source": [
        "15.How do you capture URL parameters in Flask\n",
        "\n",
        "In Flask, we can capture parts of the URL as parameters by adding variable sections in the route URL using <variable_name>.\n",
        "These parameters are passed as arguments to the view function, letting you handle dynamic URLs.\n",
        "we can specify the type like <int:id> to ensure type safety.\n",
        "\n",
        "Example:\n",
        "\n",
        "If your route is /user/<username>, and someone visits /user/john, Flask captures \"john\" as the username parameter and passes it to your function.\n",
        "\n"
      ],
      "metadata": {
        "id": "Y4eB4gJgJQdR"
      }
    }
  ]
}